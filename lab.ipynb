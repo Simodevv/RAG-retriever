{
 "cells": [
  {
   "metadata": {
    "ExecuteTime": {
     "end_time": "2024-12-25T21:46:42.094282Z",
     "start_time": "2024-12-25T21:46:42.090249Z"
    }
   },
   "cell_type": "code",
   "source": [
    "from langchain.chains import GraphCypherQAChain\n",
    "from langchain.graphs import Neo4jGraph\n",
    "from langchain_google_genai import ChatGoogleGenerativeAI\n",
    "\n",
    "from dotenv import load_dotenv\n",
    "\n",
    "import os"
   ],
   "id": "10140c8c8f741b6b",
   "outputs": [],
   "execution_count": 26
  },
  {
   "metadata": {
    "ExecuteTime": {
     "end_time": "2024-12-25T21:46:42.578896Z",
     "start_time": "2024-12-25T21:46:42.573689Z"
    }
   },
   "cell_type": "code",
   "source": "load_dotenv()",
   "id": "598a7ff31cf2056d",
   "outputs": [
    {
     "data": {
      "text/plain": [
       "True"
      ]
     },
     "execution_count": 27,
     "metadata": {},
     "output_type": "execute_result"
    }
   ],
   "execution_count": 27
  },
  {
   "metadata": {
    "ExecuteTime": {
     "end_time": "2024-12-25T21:46:43.176536Z",
     "start_time": "2024-12-25T21:46:43.172686Z"
    }
   },
   "cell_type": "code",
   "source": "api_key = os.getenv(\"API_KEY\")",
   "id": "eceed7b1411e01f",
   "outputs": [],
   "execution_count": 28
  },
  {
   "metadata": {
    "ExecuteTime": {
     "end_time": "2024-12-25T21:46:43.603281Z",
     "start_time": "2024-12-25T21:46:43.600369Z"
    }
   },
   "cell_type": "code",
   "source": "db_password = os.getenv(\"NEO4J_PASSWORD\")",
   "id": "5522d5b8c98a58ce",
   "outputs": [],
   "execution_count": 29
  },
  {
   "metadata": {
    "ExecuteTime": {
     "end_time": "2024-12-25T21:46:44.036508Z",
     "start_time": "2024-12-25T21:46:43.983789Z"
    }
   },
   "cell_type": "code",
   "source": [
    "graph = Neo4jGraph(\n",
    "    url=\"bolt://localhost:7687\",\n",
    "    username=\"neo4j\",\n",
    "    password=\"12345678\",\n",
    "    database=\"hamzadb\"\n",
    "    )"
   ],
   "id": "79b3a352222a9b6f",
   "outputs": [],
   "execution_count": 30
  },
  {
   "metadata": {
    "ExecuteTime": {
     "end_time": "2024-12-25T21:46:44.522827Z",
     "start_time": "2024-12-25T21:46:44.516670Z"
    }
   },
   "cell_type": "code",
   "source": "llm = ChatGoogleGenerativeAI(model=\"gemini-1.5-flash\")",
   "id": "1937477b0caf5271",
   "outputs": [],
   "execution_count": 31
  },
  {
   "metadata": {
    "ExecuteTime": {
     "end_time": "2024-12-25T21:46:44.923586Z",
     "start_time": "2024-12-25T21:46:44.920396Z"
    }
   },
   "cell_type": "code",
   "source": [
    "def main(query):\n",
    "    chain = GraphCypherQAChain.from_llm(graph=graph, llm=llm, verbose=True, allow_dangerous_requests=True)\n",
    "    response = chain.invoke({\"query:\", query})\n",
    "    print(response)"
   ],
   "id": "cbc574dfebd4f14e",
   "outputs": [],
   "execution_count": 32
  },
  {
   "metadata": {
    "ExecuteTime": {
     "end_time": "2024-12-25T21:46:47.799430Z",
     "start_time": "2024-12-25T21:46:45.458606Z"
    }
   },
   "cell_type": "code",
   "source": "main(\"I know python and scikit learn, which career should i pursue?\")",
   "id": "34a56f49ca4c7650",
   "outputs": [
    {
     "name": "stdout",
     "output_type": "stream",
     "text": [
      "\n",
      "\n",
      "\u001B[1m> Entering new GraphCypherQAChain chain...\u001B[0m\n",
      "Generated Cypher:\n",
      "\u001B[32;1m\u001B[1;3mMATCH (c:Certification)-[r:REQUIRES_SKILL]->(s:Skill) WHERE s.name CONTAINS 'python' OR s.name CONTAINS 'scikit learn' RETURN c.title, c.description, count(*) AS relevance ORDER BY relevance DESC\n",
      "\u001B[0m\n",
      "Full Context:\n",
      "\u001B[32;1m\u001B[1;3m[]\u001B[0m\n",
      "\n",
      "\u001B[1m> Finished chain.\u001B[0m\n",
      "{'query': {'I know python and scikit learn, which career should i pursue?', 'query:'}, 'result': \"I don't know the answer.\\n\"}\n"
     ]
    }
   ],
   "execution_count": 33
  },
  {
   "metadata": {},
   "cell_type": "code",
   "outputs": [],
   "execution_count": null,
   "source": "",
   "id": "8a45cc38918e2e9c"
  }
 ],
 "metadata": {
  "kernelspec": {
   "display_name": "Python 3 (ipykernel)",
   "language": "python",
   "name": "python3"
  },
  "language_info": {
   "codemirror_mode": {
    "name": "ipython",
    "version": 3
   },
   "file_extension": ".py",
   "mimetype": "text/x-python",
   "name": "python",
   "nbconvert_exporter": "python",
   "pygments_lexer": "ipython3",
   "version": "3.10.9"
  }
 },
 "nbformat": 4,
 "nbformat_minor": 5
}
