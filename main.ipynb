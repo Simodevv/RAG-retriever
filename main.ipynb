{
 "cells": [
  {
   "metadata": {
    "ExecuteTime": {
     "end_time": "2024-12-25T15:35:46.796514Z",
     "start_time": "2024-12-25T15:35:46.789969Z"
    }
   },
   "cell_type": "code",
   "source": [
    "from langchain.chains import GraphCypherQAChain\n",
    "from langchain.graphs import Neo4jGraph\n",
    "from langchain_google_genai import ChatGoogleGenerativeAI\n",
    "\n",
    "from dotenv import load_dotenv\n",
    "\n",
    "import os"
   ],
   "id": "10140c8c8f741b6b",
   "outputs": [],
   "execution_count": 125
  },
  {
   "metadata": {
    "ExecuteTime": {
     "end_time": "2024-12-25T15:35:53.386036Z",
     "start_time": "2024-12-25T15:35:53.380583Z"
    }
   },
   "cell_type": "code",
   "source": "load_dotenv()",
   "id": "598a7ff31cf2056d",
   "outputs": [
    {
     "data": {
      "text/plain": [
       "True"
      ]
     },
     "execution_count": 126,
     "metadata": {},
     "output_type": "execute_result"
    }
   ],
   "execution_count": 126
  },
  {
   "metadata": {
    "ExecuteTime": {
     "end_time": "2024-12-25T15:35:58.027525Z",
     "start_time": "2024-12-25T15:35:58.023265Z"
    }
   },
   "cell_type": "code",
   "source": [
    "api_key: str = os.getenv(\"API_KEY\")\n",
    "db_password = os.getenv(\"NEO4J_PASSWORD\")"
   ],
   "id": "eceed7b1411e01f",
   "outputs": [],
   "execution_count": 127
  },
  {
   "metadata": {
    "ExecuteTime": {
     "end_time": "2024-12-25T15:34:40.820573Z",
     "start_time": "2024-12-25T15:34:40.687259Z"
    }
   },
   "cell_type": "code",
   "source": [
    "retriever = Neo4jGraph(\n",
    "    url=\"bolt://localhost:7687\",\n",
    "    username=\"neo4j\",\n",
    "    password=db_password\n",
    ")"
   ],
   "id": "79b3a352222a9b6f",
   "outputs": [
    {
     "ename": "ValueError",
     "evalue": "Could not connect to Neo4j database. Please ensure that the username and password are correct",
     "output_type": "error",
     "traceback": [
      "\u001B[0;31m---------------------------------------------------------------------------\u001B[0m",
      "\u001B[0;31mAuthError\u001B[0m                                 Traceback (most recent call last)",
      "File \u001B[0;32m~/Documents/ML/scientificProject/venv/lib/python3.10/site-packages/langchain_community/graphs/neo4j_graph.py:415\u001B[0m, in \u001B[0;36mNeo4jGraph.__init__\u001B[0;34m(self, url, username, password, database, timeout, sanitize, refresh_schema, driver_config, enhanced_schema)\u001B[0m\n\u001B[1;32m    414\u001B[0m \u001B[38;5;28;01mtry\u001B[39;00m:\n\u001B[0;32m--> 415\u001B[0m     \u001B[38;5;28;43mself\u001B[39;49m\u001B[38;5;241;43m.\u001B[39;49m\u001B[43m_driver\u001B[49m\u001B[38;5;241;43m.\u001B[39;49m\u001B[43mverify_connectivity\u001B[49m\u001B[43m(\u001B[49m\u001B[43m)\u001B[49m\n\u001B[1;32m    416\u001B[0m \u001B[38;5;28;01mexcept\u001B[39;00m neo4j\u001B[38;5;241m.\u001B[39mexceptions\u001B[38;5;241m.\u001B[39mServiceUnavailable:\n",
      "File \u001B[0;32m~/Documents/ML/scientificProject/venv/lib/python3.10/site-packages/neo4j/_sync/driver.py:1083\u001B[0m, in \u001B[0;36mDriver.verify_connectivity\u001B[0;34m(self, **config)\u001B[0m\n\u001B[1;32m   1082\u001B[0m session_config \u001B[38;5;241m=\u001B[39m \u001B[38;5;28mself\u001B[39m\u001B[38;5;241m.\u001B[39m_read_session_config(config)\n\u001B[0;32m-> 1083\u001B[0m \u001B[38;5;28;43mself\u001B[39;49m\u001B[38;5;241;43m.\u001B[39;49m\u001B[43m_get_server_info\u001B[49m\u001B[43m(\u001B[49m\u001B[43msession_config\u001B[49m\u001B[43m)\u001B[49m\n",
      "File \u001B[0;32m~/Documents/ML/scientificProject/venv/lib/python3.10/site-packages/neo4j/_sync/driver.py:1298\u001B[0m, in \u001B[0;36mDriver._get_server_info\u001B[0;34m(self, session_config)\u001B[0m\n\u001B[1;32m   1297\u001B[0m \u001B[38;5;28;01mwith\u001B[39;00m \u001B[38;5;28mself\u001B[39m\u001B[38;5;241m.\u001B[39m_session(session_config) \u001B[38;5;28;01mas\u001B[39;00m session:\n\u001B[0;32m-> 1298\u001B[0m     \u001B[38;5;28;01mreturn\u001B[39;00m \u001B[43msession\u001B[49m\u001B[38;5;241;43m.\u001B[39;49m\u001B[43m_get_server_info\u001B[49m\u001B[43m(\u001B[49m\u001B[43m)\u001B[49m\n",
      "File \u001B[0;32m~/Documents/ML/scientificProject/venv/lib/python3.10/site-packages/neo4j/_sync/work/session.py:177\u001B[0m, in \u001B[0;36mSession._get_server_info\u001B[0;34m(self)\u001B[0m\n\u001B[1;32m    176\u001B[0m \u001B[38;5;28;01massert\u001B[39;00m \u001B[38;5;129;01mnot\u001B[39;00m \u001B[38;5;28mself\u001B[39m\u001B[38;5;241m.\u001B[39m_connection\n\u001B[0;32m--> 177\u001B[0m \u001B[38;5;28;43mself\u001B[39;49m\u001B[38;5;241;43m.\u001B[39;49m\u001B[43m_connect\u001B[49m\u001B[43m(\u001B[49m\u001B[43mREAD_ACCESS\u001B[49m\u001B[43m,\u001B[49m\u001B[43m \u001B[49m\u001B[43mliveness_check_timeout\u001B[49m\u001B[38;5;241;43m=\u001B[39;49m\u001B[38;5;241;43m0\u001B[39;49m\u001B[43m)\u001B[49m\n\u001B[1;32m    178\u001B[0m server_info \u001B[38;5;241m=\u001B[39m \u001B[38;5;28mself\u001B[39m\u001B[38;5;241m.\u001B[39m_connection\u001B[38;5;241m.\u001B[39mserver_info\n",
      "File \u001B[0;32m~/Documents/ML/scientificProject/venv/lib/python3.10/site-packages/neo4j/_sync/work/session.py:130\u001B[0m, in \u001B[0;36mSession._connect\u001B[0;34m(self, access_mode, **acquire_kwargs)\u001B[0m\n\u001B[1;32m    129\u001B[0m \u001B[38;5;28;01mtry\u001B[39;00m:\n\u001B[0;32m--> 130\u001B[0m     \u001B[38;5;28;43msuper\u001B[39;49m\u001B[43m(\u001B[49m\u001B[43m)\u001B[49m\u001B[38;5;241;43m.\u001B[39;49m\u001B[43m_connect\u001B[49m\u001B[43m(\u001B[49m\n\u001B[1;32m    131\u001B[0m \u001B[43m        \u001B[49m\u001B[43maccess_mode\u001B[49m\u001B[43m,\u001B[49m\u001B[43m \u001B[49m\u001B[43mauth\u001B[49m\u001B[38;5;241;43m=\u001B[39;49m\u001B[38;5;28;43mself\u001B[39;49m\u001B[38;5;241;43m.\u001B[39;49m\u001B[43m_config\u001B[49m\u001B[38;5;241;43m.\u001B[39;49m\u001B[43mauth\u001B[49m\u001B[43m,\u001B[49m\u001B[43m \u001B[49m\u001B[38;5;241;43m*\u001B[39;49m\u001B[38;5;241;43m*\u001B[39;49m\u001B[43macquire_kwargs\u001B[49m\n\u001B[1;32m    132\u001B[0m \u001B[43m    \u001B[49m\u001B[43m)\u001B[49m\n\u001B[1;32m    133\u001B[0m \u001B[38;5;28;01mexcept\u001B[39;00m asyncio\u001B[38;5;241m.\u001B[39mCancelledError:\n",
      "File \u001B[0;32m~/Documents/ML/scientificProject/venv/lib/python3.10/site-packages/neo4j/_sync/work/workspace.py:184\u001B[0m, in \u001B[0;36mWorkspace._connect\u001B[0;34m(self, access_mode, auth, **acquire_kwargs)\u001B[0m\n\u001B[1;32m    183\u001B[0m acquire_kwargs_\u001B[38;5;241m.\u001B[39mupdate(acquire_kwargs)\n\u001B[0;32m--> 184\u001B[0m \u001B[38;5;28mself\u001B[39m\u001B[38;5;241m.\u001B[39m_connection \u001B[38;5;241m=\u001B[39m \u001B[38;5;28;43mself\u001B[39;49m\u001B[38;5;241;43m.\u001B[39;49m\u001B[43m_pool\u001B[49m\u001B[38;5;241;43m.\u001B[39;49m\u001B[43macquire\u001B[49m\u001B[43m(\u001B[49m\u001B[38;5;241;43m*\u001B[39;49m\u001B[38;5;241;43m*\u001B[39;49m\u001B[43macquire_kwargs_\u001B[49m\u001B[43m)\u001B[49m\n\u001B[1;32m    185\u001B[0m \u001B[38;5;28mself\u001B[39m\u001B[38;5;241m.\u001B[39m_connection_access_mode \u001B[38;5;241m=\u001B[39m access_mode\n",
      "File \u001B[0;32m~/Documents/ML/scientificProject/venv/lib/python3.10/site-packages/neo4j/_sync/io/_pool.py:596\u001B[0m, in \u001B[0;36mBoltPool.acquire\u001B[0;34m(self, access_mode, timeout, database, bookmarks, auth, liveness_check_timeout)\u001B[0m\n\u001B[1;32m    595\u001B[0m deadline \u001B[38;5;241m=\u001B[39m Deadline\u001B[38;5;241m.\u001B[39mfrom_timeout_or_deadline(timeout)\n\u001B[0;32m--> 596\u001B[0m \u001B[38;5;28;01mreturn\u001B[39;00m \u001B[38;5;28;43mself\u001B[39;49m\u001B[38;5;241;43m.\u001B[39;49m\u001B[43m_acquire\u001B[49m\u001B[43m(\u001B[49m\n\u001B[1;32m    597\u001B[0m \u001B[43m    \u001B[49m\u001B[38;5;28;43mself\u001B[39;49m\u001B[38;5;241;43m.\u001B[39;49m\u001B[43maddress\u001B[49m\u001B[43m,\u001B[49m\u001B[43m \u001B[49m\u001B[43mauth\u001B[49m\u001B[43m,\u001B[49m\u001B[43m \u001B[49m\u001B[43mdeadline\u001B[49m\u001B[43m,\u001B[49m\u001B[43m \u001B[49m\u001B[43mliveness_check_timeout\u001B[49m\n\u001B[1;32m    598\u001B[0m \u001B[43m\u001B[49m\u001B[43m)\u001B[49m\n",
      "File \u001B[0;32m~/Documents/ML/scientificProject/venv/lib/python3.10/site-packages/neo4j/_sync/io/_pool.py:346\u001B[0m, in \u001B[0;36mIOPool._acquire\u001B[0;34m(self, address, auth, deadline, liveness_check_timeout)\u001B[0m\n\u001B[1;32m    345\u001B[0m log\u001B[38;5;241m.\u001B[39mdebug(\u001B[38;5;124m\"\u001B[39m\u001B[38;5;124m[#0000]  _: <POOL> trying to hand out new connection\u001B[39m\u001B[38;5;124m\"\u001B[39m)\n\u001B[0;32m--> 346\u001B[0m \u001B[38;5;28;01mreturn\u001B[39;00m \u001B[43mconnection_creator\u001B[49m\u001B[43m(\u001B[49m\u001B[43m)\u001B[49m\n",
      "File \u001B[0;32m~/Documents/ML/scientificProject/venv/lib/python3.10/site-packages/neo4j/_sync/io/_pool.py:169\u001B[0m, in \u001B[0;36mIOPool._acquire_new_later.<locals>.connection_creator\u001B[0;34m()\u001B[0m\n\u001B[1;32m    168\u001B[0m \u001B[38;5;28;01mtry\u001B[39;00m:\n\u001B[0;32m--> 169\u001B[0m     connection \u001B[38;5;241m=\u001B[39m \u001B[38;5;28;43mself\u001B[39;49m\u001B[38;5;241;43m.\u001B[39;49m\u001B[43mopener\u001B[49m\u001B[43m(\u001B[49m\n\u001B[1;32m    170\u001B[0m \u001B[43m        \u001B[49m\u001B[43maddress\u001B[49m\u001B[43m,\u001B[49m\u001B[43m \u001B[49m\u001B[43mauth\u001B[49m\u001B[43m \u001B[49m\u001B[38;5;129;43;01mor\u001B[39;49;00m\u001B[43m \u001B[49m\u001B[38;5;28;43mself\u001B[39;49m\u001B[38;5;241;43m.\u001B[39;49m\u001B[43mpool_config\u001B[49m\u001B[38;5;241;43m.\u001B[39;49m\u001B[43mauth\u001B[49m\u001B[43m,\u001B[49m\u001B[43m \u001B[49m\u001B[43mdeadline\u001B[49m\n\u001B[1;32m    171\u001B[0m \u001B[43m    \u001B[49m\u001B[43m)\u001B[49m\n\u001B[1;32m    172\u001B[0m \u001B[38;5;28;01mexcept\u001B[39;00m ServiceUnavailable:\n",
      "File \u001B[0;32m~/Documents/ML/scientificProject/venv/lib/python3.10/site-packages/neo4j/_sync/io/_pool.py:559\u001B[0m, in \u001B[0;36mBoltPool.open.<locals>.opener\u001B[0;34m(addr, auth_manager, deadline)\u001B[0m\n\u001B[1;32m    558\u001B[0m \u001B[38;5;28;01mdef\u001B[39;00m \u001B[38;5;21mopener\u001B[39m(addr, auth_manager, deadline):\n\u001B[0;32m--> 559\u001B[0m     \u001B[38;5;28;01mreturn\u001B[39;00m \u001B[43mBolt\u001B[49m\u001B[38;5;241;43m.\u001B[39;49m\u001B[43mopen\u001B[49m\u001B[43m(\u001B[49m\n\u001B[1;32m    560\u001B[0m \u001B[43m        \u001B[49m\u001B[43maddr\u001B[49m\u001B[43m,\u001B[49m\n\u001B[1;32m    561\u001B[0m \u001B[43m        \u001B[49m\u001B[43mauth_manager\u001B[49m\u001B[38;5;241;43m=\u001B[39;49m\u001B[43mauth_manager\u001B[49m\u001B[43m,\u001B[49m\n\u001B[1;32m    562\u001B[0m \u001B[43m        \u001B[49m\u001B[43mdeadline\u001B[49m\u001B[38;5;241;43m=\u001B[39;49m\u001B[43mdeadline\u001B[49m\u001B[43m,\u001B[49m\n\u001B[1;32m    563\u001B[0m \u001B[43m        \u001B[49m\u001B[43mrouting_context\u001B[49m\u001B[38;5;241;43m=\u001B[39;49m\u001B[38;5;28;43;01mNone\u001B[39;49;00m\u001B[43m,\u001B[49m\n\u001B[1;32m    564\u001B[0m \u001B[43m        \u001B[49m\u001B[43mpool_config\u001B[49m\u001B[38;5;241;43m=\u001B[39;49m\u001B[43mpool_config\u001B[49m\u001B[43m,\u001B[49m\n\u001B[1;32m    565\u001B[0m \u001B[43m    \u001B[49m\u001B[43m)\u001B[49m\n",
      "File \u001B[0;32m~/Documents/ML/scientificProject/venv/lib/python3.10/site-packages/neo4j/_sync/io/_bolt.py:553\u001B[0m, in \u001B[0;36mBolt.open\u001B[0;34m(cls, address, auth_manager, deadline, routing_context, pool_config)\u001B[0m\n\u001B[1;32m    552\u001B[0m \u001B[38;5;28;01mtry\u001B[39;00m:\n\u001B[0;32m--> 553\u001B[0m     \u001B[43mconnection\u001B[49m\u001B[38;5;241;43m.\u001B[39;49m\u001B[43mhello\u001B[49m\u001B[43m(\u001B[49m\u001B[43m)\u001B[49m\n\u001B[1;32m    554\u001B[0m \u001B[38;5;28;01mfinally\u001B[39;00m:\n",
      "File \u001B[0;32m~/Documents/ML/scientificProject/venv/lib/python3.10/site-packages/neo4j/_sync/io/_bolt5.py:693\u001B[0m, in \u001B[0;36mBolt5x2.hello\u001B[0;34m(self, dehydration_hooks, hydration_hooks)\u001B[0m\n\u001B[1;32m    692\u001B[0m \u001B[38;5;28mself\u001B[39m\u001B[38;5;241m.\u001B[39msend_all()\n\u001B[0;32m--> 693\u001B[0m \u001B[38;5;28;43mself\u001B[39;49m\u001B[38;5;241;43m.\u001B[39;49m\u001B[43mfetch_all\u001B[49m\u001B[43m(\u001B[49m\u001B[43m)\u001B[49m\n\u001B[1;32m    694\u001B[0m check_supported_server_product(\u001B[38;5;28mself\u001B[39m\u001B[38;5;241m.\u001B[39mserver_info\u001B[38;5;241m.\u001B[39magent)\n",
      "File \u001B[0;32m~/Documents/ML/scientificProject/venv/lib/python3.10/site-packages/neo4j/_sync/io/_bolt.py:992\u001B[0m, in \u001B[0;36mBolt.fetch_all\u001B[0;34m(self)\u001B[0m\n\u001B[1;32m    991\u001B[0m \u001B[38;5;28;01mwhile\u001B[39;00m \u001B[38;5;129;01mnot\u001B[39;00m response\u001B[38;5;241m.\u001B[39mcomplete:\n\u001B[0;32m--> 992\u001B[0m     detail_delta, summary_delta \u001B[38;5;241m=\u001B[39m \u001B[38;5;28;43mself\u001B[39;49m\u001B[38;5;241;43m.\u001B[39;49m\u001B[43mfetch_message\u001B[49m\u001B[43m(\u001B[49m\u001B[43m)\u001B[49m\n\u001B[1;32m    993\u001B[0m     detail_count \u001B[38;5;241m+\u001B[39m\u001B[38;5;241m=\u001B[39m detail_delta\n",
      "File \u001B[0;32m~/Documents/ML/scientificProject/venv/lib/python3.10/site-packages/neo4j/_sync/io/_bolt.py:977\u001B[0m, in \u001B[0;36mBolt.fetch_message\u001B[0;34m(self)\u001B[0m\n\u001B[1;32m    974\u001B[0m tag, fields \u001B[38;5;241m=\u001B[39m \u001B[38;5;28mself\u001B[39m\u001B[38;5;241m.\u001B[39minbox\u001B[38;5;241m.\u001B[39mpop(\n\u001B[1;32m    975\u001B[0m     hydration_hooks\u001B[38;5;241m=\u001B[39m\u001B[38;5;28mself\u001B[39m\u001B[38;5;241m.\u001B[39mresponses[\u001B[38;5;241m0\u001B[39m]\u001B[38;5;241m.\u001B[39mhydration_hooks\n\u001B[1;32m    976\u001B[0m )\n\u001B[0;32m--> 977\u001B[0m res \u001B[38;5;241m=\u001B[39m \u001B[38;5;28;43mself\u001B[39;49m\u001B[38;5;241;43m.\u001B[39;49m\u001B[43m_process_message\u001B[49m\u001B[43m(\u001B[49m\u001B[43mtag\u001B[49m\u001B[43m,\u001B[49m\u001B[43m \u001B[49m\u001B[43mfields\u001B[49m\u001B[43m)\u001B[49m\n\u001B[1;32m    978\u001B[0m \u001B[38;5;28mself\u001B[39m\u001B[38;5;241m.\u001B[39midle_since \u001B[38;5;241m=\u001B[39m monotonic()\n",
      "File \u001B[0;32m~/Documents/ML/scientificProject/venv/lib/python3.10/site-packages/neo4j/_sync/io/_bolt5.py:466\u001B[0m, in \u001B[0;36mBolt5x0._process_message\u001B[0;34m(self, tag, fields)\u001B[0m\n\u001B[1;32m    465\u001B[0m \u001B[38;5;28;01mtry\u001B[39;00m:\n\u001B[0;32m--> 466\u001B[0m     \u001B[43mresponse\u001B[49m\u001B[38;5;241;43m.\u001B[39;49m\u001B[43mon_failure\u001B[49m\u001B[43m(\u001B[49m\u001B[43msummary_metadata\u001B[49m\u001B[43m \u001B[49m\u001B[38;5;129;43;01mor\u001B[39;49;00m\u001B[43m \u001B[49m\u001B[43m{\u001B[49m\u001B[43m}\u001B[49m\u001B[43m)\u001B[49m\n\u001B[1;32m    467\u001B[0m \u001B[38;5;28;01mexcept\u001B[39;00m (ServiceUnavailable, DatabaseUnavailable):\n",
      "File \u001B[0;32m~/Documents/ML/scientificProject/venv/lib/python3.10/site-packages/neo4j/_sync/io/_common.py:286\u001B[0m, in \u001B[0;36mLogonResponse.on_failure\u001B[0;34m(self, metadata)\u001B[0m\n\u001B[1;32m    285\u001B[0m Util\u001B[38;5;241m.\u001B[39mcallback(handler)\n\u001B[0;32m--> 286\u001B[0m \u001B[38;5;28;01mraise\u001B[39;00m Neo4jError\u001B[38;5;241m.\u001B[39mhydrate(\u001B[38;5;241m*\u001B[39m\u001B[38;5;241m*\u001B[39mmetadata)\n",
      "\u001B[0;31mAuthError\u001B[0m: {code: Neo.ClientError.Security.Unauthorized} {message: The client is unauthorized due to authentication failure.}",
      "\nDuring handling of the above exception, another exception occurred:\n",
      "\u001B[0;31mValueError\u001B[0m                                Traceback (most recent call last)",
      "Cell \u001B[0;32mIn[116], line 1\u001B[0m\n\u001B[0;32m----> 1\u001B[0m retriever \u001B[38;5;241m=\u001B[39m \u001B[43mNeo4jGraph\u001B[49m\u001B[43m(\u001B[49m\n\u001B[1;32m      2\u001B[0m \u001B[43m    \u001B[49m\u001B[43murl\u001B[49m\u001B[38;5;241;43m=\u001B[39;49m\u001B[38;5;124;43m\"\u001B[39;49m\u001B[38;5;124;43mbolt://localhost:7687\u001B[39;49m\u001B[38;5;124;43m\"\u001B[39;49m\u001B[43m,\u001B[49m\n\u001B[1;32m      3\u001B[0m \u001B[43m    \u001B[49m\u001B[43musername\u001B[49m\u001B[38;5;241;43m=\u001B[39;49m\u001B[38;5;124;43m\"\u001B[39;49m\u001B[38;5;124;43mneo4j\u001B[39;49m\u001B[38;5;124;43m\"\u001B[39;49m\u001B[43m,\u001B[49m\n\u001B[1;32m      4\u001B[0m \u001B[43m    \u001B[49m\u001B[43mpassword\u001B[49m\u001B[38;5;241;43m=\u001B[39;49m\u001B[43mdb_password\u001B[49m\n\u001B[1;32m      5\u001B[0m \u001B[43m)\u001B[49m\n",
      "File \u001B[0;32m~/Documents/ML/scientificProject/venv/lib/python3.10/site-packages/langchain_core/_api/deprecation.py:216\u001B[0m, in \u001B[0;36mdeprecated.<locals>.deprecate.<locals>.finalize.<locals>.warn_if_direct_instance\u001B[0;34m(self, *args, **kwargs)\u001B[0m\n\u001B[1;32m    214\u001B[0m     warned \u001B[38;5;241m=\u001B[39m \u001B[38;5;28;01mTrue\u001B[39;00m\n\u001B[1;32m    215\u001B[0m     emit_warning()\n\u001B[0;32m--> 216\u001B[0m \u001B[38;5;28;01mreturn\u001B[39;00m \u001B[43mwrapped\u001B[49m\u001B[43m(\u001B[49m\u001B[38;5;28;43mself\u001B[39;49m\u001B[43m,\u001B[49m\u001B[43m \u001B[49m\u001B[38;5;241;43m*\u001B[39;49m\u001B[43margs\u001B[49m\u001B[43m,\u001B[49m\u001B[43m \u001B[49m\u001B[38;5;241;43m*\u001B[39;49m\u001B[38;5;241;43m*\u001B[39;49m\u001B[43mkwargs\u001B[49m\u001B[43m)\u001B[49m\n",
      "File \u001B[0;32m~/Documents/ML/scientificProject/venv/lib/python3.10/site-packages/langchain_community/graphs/neo4j_graph.py:422\u001B[0m, in \u001B[0;36mNeo4jGraph.__init__\u001B[0;34m(self, url, username, password, database, timeout, sanitize, refresh_schema, driver_config, enhanced_schema)\u001B[0m\n\u001B[1;32m    417\u001B[0m     \u001B[38;5;28;01mraise\u001B[39;00m \u001B[38;5;167;01mValueError\u001B[39;00m(\n\u001B[1;32m    418\u001B[0m         \u001B[38;5;124m\"\u001B[39m\u001B[38;5;124mCould not connect to Neo4j database. \u001B[39m\u001B[38;5;124m\"\u001B[39m\n\u001B[1;32m    419\u001B[0m         \u001B[38;5;124m\"\u001B[39m\u001B[38;5;124mPlease ensure that the url is correct\u001B[39m\u001B[38;5;124m\"\u001B[39m\n\u001B[1;32m    420\u001B[0m     )\n\u001B[1;32m    421\u001B[0m \u001B[38;5;28;01mexcept\u001B[39;00m neo4j\u001B[38;5;241m.\u001B[39mexceptions\u001B[38;5;241m.\u001B[39mAuthError:\n\u001B[0;32m--> 422\u001B[0m     \u001B[38;5;28;01mraise\u001B[39;00m \u001B[38;5;167;01mValueError\u001B[39;00m(\n\u001B[1;32m    423\u001B[0m         \u001B[38;5;124m\"\u001B[39m\u001B[38;5;124mCould not connect to Neo4j database. \u001B[39m\u001B[38;5;124m\"\u001B[39m\n\u001B[1;32m    424\u001B[0m         \u001B[38;5;124m\"\u001B[39m\u001B[38;5;124mPlease ensure that the username and password are correct\u001B[39m\u001B[38;5;124m\"\u001B[39m\n\u001B[1;32m    425\u001B[0m     )\n\u001B[1;32m    426\u001B[0m \u001B[38;5;66;03m# Set schema\u001B[39;00m\n\u001B[1;32m    427\u001B[0m \u001B[38;5;28;01mif\u001B[39;00m refresh_schema:\n",
      "\u001B[0;31mValueError\u001B[0m: Could not connect to Neo4j database. Please ensure that the username and password are correct"
     ]
    }
   ],
   "execution_count": 116
  },
  {
   "metadata": {
    "ExecuteTime": {
     "end_time": "2024-12-25T15:35:59.579827Z",
     "start_time": "2024-12-25T15:35:59.575992Z"
    }
   },
   "cell_type": "code",
   "source": "print(db_password)",
   "id": "45db9c76a3aac2e8",
   "outputs": [
    {
     "name": "stdout",
     "output_type": "stream",
     "text": [
      "1234\n"
     ]
    }
   ],
   "execution_count": 128
  },
  {
   "metadata": {
    "ExecuteTime": {
     "end_time": "2024-12-25T15:22:31.788598Z",
     "start_time": "2024-12-25T15:22:31.778041Z"
    }
   },
   "cell_type": "code",
   "source": [
    "llm = ChatGoogleGenerativeAI(model=\"gemini-1.5-flash\")\n",
    "llm.google_api_key = api_key"
   ],
   "id": "1937477b0caf5271",
   "outputs": [],
   "execution_count": 102
  },
  {
   "metadata": {
    "ExecuteTime": {
     "end_time": "2024-12-25T15:22:32.720570Z",
     "start_time": "2024-12-25T15:22:32.715862Z"
    }
   },
   "cell_type": "code",
   "source": [
    "def main(query):\n",
    "    chain = GraphCypherQAChain.from_llm(graph=retriever, llm=llm, verbose=True, allow_dangerous_requests=True)\n",
    "    response = chain.invoke({\"query:\", query})\n",
    "    print(response)"
   ],
   "id": "cbc574dfebd4f14e",
   "outputs": [],
   "execution_count": 103
  },
  {
   "metadata": {
    "ExecuteTime": {
     "end_time": "2024-12-25T15:22:47.597035Z",
     "start_time": "2024-12-25T15:22:45.636219Z"
    }
   },
   "cell_type": "code",
   "source": "main(\"I know python and scikit learn, which career should i pursue?\")",
   "id": "34a56f49ca4c7650",
   "outputs": [
    {
     "name": "stdout",
     "output_type": "stream",
     "text": [
      "\n",
      "\n",
      "\u001B[1m> Entering new GraphCypherQAChain chain...\u001B[0m\n",
      "Generated Cypher:\n",
      "\u001B[32;1m\u001B[1;3mcypher\n",
      "MATCH (s1:Skill {name: \"python\"})<-[:REQUIRES]-(c:Career), (s2:Skill {name: \"scikit learn\"})<-[:REQUIRES]-(c) RETURN c.name\n",
      "\u001B[0m\n",
      "Full Context:\n",
      "\u001B[32;1m\u001B[1;3m[]\u001B[0m\n",
      "\n",
      "\u001B[1m> Finished chain.\u001B[0m\n",
      "{'query': {'I know python and scikit learn, which career should i pursue?', 'query:'}, 'result': \"I don't know the answer.\\n\"}\n"
     ]
    }
   ],
   "execution_count": 104
  },
  {
   "metadata": {},
   "cell_type": "code",
   "outputs": [],
   "execution_count": null,
   "source": "",
   "id": "8a45cc38918e2e9c"
  }
 ],
 "metadata": {
  "kernelspec": {
   "display_name": "Python 3 (ipykernel)",
   "language": "python",
   "name": "python3"
  },
  "language_info": {
   "codemirror_mode": {
    "name": "ipython",
    "version": 3
   },
   "file_extension": ".py",
   "mimetype": "text/x-python",
   "name": "python",
   "nbconvert_exporter": "python",
   "pygments_lexer": "ipython3",
   "version": "3.10.9"
  }
 },
 "nbformat": 4,
 "nbformat_minor": 5
}
